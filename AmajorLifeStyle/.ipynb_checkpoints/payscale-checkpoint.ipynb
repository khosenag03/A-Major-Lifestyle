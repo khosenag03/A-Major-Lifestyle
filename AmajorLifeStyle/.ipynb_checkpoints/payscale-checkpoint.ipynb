{
 "cells": [
  {
   "cell_type": "code",
   "execution_count": 60,
   "metadata": {},
   "outputs": [],
   "source": [
    "from bs4 import BeautifulSoup as bs\n",
    "from splinter import Browser\n",
    "import pandas as pd\n",
    "from copy import deepcopy\n",
    "import os\n",
    "\n",
    "file_to_load = \"salaries-by-region.csv\""
   ]
  },
  {
   "cell_type": "code",
   "execution_count": 61,
   "metadata": {},
   "outputs": [
    {
     "data": {
      "text/html": [
       "<div>\n",
       "<style scoped>\n",
       "    .dataframe tbody tr th:only-of-type {\n",
       "        vertical-align: middle;\n",
       "    }\n",
       "\n",
       "    .dataframe tbody tr th {\n",
       "        vertical-align: top;\n",
       "    }\n",
       "\n",
       "    .dataframe thead th {\n",
       "        text-align: right;\n",
       "    }\n",
       "</style>\n",
       "<table border=\"1\" class=\"dataframe\">\n",
       "  <thead>\n",
       "    <tr style=\"text-align: right;\">\n",
       "      <th></th>\n",
       "      <th>Region</th>\n",
       "      <th>School Name</th>\n",
       "      <th>Starting Median Salary</th>\n",
       "      <th>Mid-Career Median Salary</th>\n",
       "      <th>Mid-Career 90th Percentile Salary</th>\n",
       "    </tr>\n",
       "  </thead>\n",
       "  <tbody>\n",
       "    <tr>\n",
       "      <th>0</th>\n",
       "      <td>Southern</td>\n",
       "      <td>Rice University</td>\n",
       "      <td>$64,000.00</td>\n",
       "      <td>$110,000.00</td>\n",
       "      <td>$216,000.00</td>\n",
       "    </tr>\n",
       "    <tr>\n",
       "      <th>1</th>\n",
       "      <td>Southern</td>\n",
       "      <td>Duke University</td>\n",
       "      <td>$58,900.00</td>\n",
       "      <td>$106,000.00</td>\n",
       "      <td>$218,000.00</td>\n",
       "    </tr>\n",
       "    <tr>\n",
       "      <th>2</th>\n",
       "      <td>Southern</td>\n",
       "      <td>Georgia Institute of Technology</td>\n",
       "      <td>$58,300.00</td>\n",
       "      <td>$106,000.00</td>\n",
       "      <td>$183,000.00</td>\n",
       "    </tr>\n",
       "    <tr>\n",
       "      <th>3</th>\n",
       "      <td>Southern</td>\n",
       "      <td>Georgetown University</td>\n",
       "      <td>$55,000.00</td>\n",
       "      <td>$110,000.00</td>\n",
       "      <td>$248,000.00</td>\n",
       "    </tr>\n",
       "    <tr>\n",
       "      <th>4</th>\n",
       "      <td>Southern</td>\n",
       "      <td>Virginia Polytechnic Institute and State Unive...</td>\n",
       "      <td>$53,500.00</td>\n",
       "      <td>$95,400.00</td>\n",
       "      <td>$163,000.00</td>\n",
       "    </tr>\n",
       "  </tbody>\n",
       "</table>\n",
       "</div>"
      ],
      "text/plain": [
       "     Region                                        School Name  \\\n",
       "0  Southern                                    Rice University   \n",
       "1  Southern                                    Duke University   \n",
       "2  Southern                    Georgia Institute of Technology   \n",
       "3  Southern                              Georgetown University   \n",
       "4  Southern  Virginia Polytechnic Institute and State Unive...   \n",
       "\n",
       "  Starting Median Salary Mid-Career Median Salary  \\\n",
       "0            $64,000.00              $110,000.00    \n",
       "1            $58,900.00              $106,000.00    \n",
       "2            $58,300.00              $106,000.00    \n",
       "3            $55,000.00              $110,000.00    \n",
       "4            $53,500.00               $95,400.00    \n",
       "\n",
       "  Mid-Career 90th Percentile Salary  \n",
       "0                      $216,000.00   \n",
       "1                      $218,000.00   \n",
       "2                      $183,000.00   \n",
       "3                      $248,000.00   \n",
       "4                      $163,000.00   "
      ]
     },
     "execution_count": 61,
     "metadata": {},
     "output_type": "execute_result"
    }
   ],
   "source": [
    "#read region data\n",
    "region_data = pd.read_csv(file_to_load)\n",
    "\n",
    "#Extract data by Region from the Master DF\n",
    "Southern_Region = region_data.loc[region_data[\"Region\"] == \"Southern\", :]\n",
    "\n",
    "#List salary change over the lenght of mid-career by region; from school with hightest Starting_Mid to lowest Mid_90th\n",
    "Southern_Sort = Southern_Region.sort_values(['Starting Median Salary', 'School Name'], ascending=[False, True])\n",
    "\n",
    "#Clean DF to the areas of focus\n",
    "South_Clean = Southern_Sort[[\"School Name\", \"Region\", \"Starting Median Salary\", \"Mid-Career Median Salary\", \"Mid-Career 90th Percentile Salary\"]]\n",
    "South_Clean = South_Clean.dropna()\n",
    "\n",
    "#Index data for Region Column\n",
    "South_Clean.set_index('Region', inplace=True)\n",
    "\n",
    "#Add unique index value row\n",
    "df = South_Clean.reset_index()\n",
    "df.head()"
   ]
  },
  {
   "cell_type": "code",
   "execution_count": 62,
   "metadata": {},
   "outputs": [
    {
     "data": {
      "text/html": [
       "<div>\n",
       "<style scoped>\n",
       "    .dataframe tbody tr th:only-of-type {\n",
       "        vertical-align: middle;\n",
       "    }\n",
       "\n",
       "    .dataframe tbody tr th {\n",
       "        vertical-align: top;\n",
       "    }\n",
       "\n",
       "    .dataframe thead th {\n",
       "        text-align: right;\n",
       "    }\n",
       "</style>\n",
       "<table border=\"1\" class=\"dataframe\">\n",
       "  <thead>\n",
       "    <tr style=\"text-align: right;\">\n",
       "      <th></th>\n",
       "      <th>REGION</th>\n",
       "      <th>SCHOOL NAME</th>\n",
       "      <th>STARTING AVG</th>\n",
       "      <th>MID CAREER AVG</th>\n",
       "      <th>TOP 10% AVG</th>\n",
       "    </tr>\n",
       "  </thead>\n",
       "  <tbody>\n",
       "    <tr>\n",
       "      <th>0</th>\n",
       "      <td>Southern</td>\n",
       "      <td>Rice University</td>\n",
       "      <td>$64,000.00</td>\n",
       "      <td>$110,000.00</td>\n",
       "      <td>$216,000.00</td>\n",
       "    </tr>\n",
       "    <tr>\n",
       "      <th>1</th>\n",
       "      <td>Southern</td>\n",
       "      <td>Duke University</td>\n",
       "      <td>$58,900.00</td>\n",
       "      <td>$106,000.00</td>\n",
       "      <td>$218,000.00</td>\n",
       "    </tr>\n",
       "    <tr>\n",
       "      <th>2</th>\n",
       "      <td>Southern</td>\n",
       "      <td>Georgia Institute of Technology</td>\n",
       "      <td>$58,300.00</td>\n",
       "      <td>$106,000.00</td>\n",
       "      <td>$183,000.00</td>\n",
       "    </tr>\n",
       "    <tr>\n",
       "      <th>3</th>\n",
       "      <td>Southern</td>\n",
       "      <td>Georgetown University</td>\n",
       "      <td>$55,000.00</td>\n",
       "      <td>$110,000.00</td>\n",
       "      <td>$248,000.00</td>\n",
       "    </tr>\n",
       "    <tr>\n",
       "      <th>4</th>\n",
       "      <td>Southern</td>\n",
       "      <td>Virginia Polytechnic Institute and State Unive...</td>\n",
       "      <td>$53,500.00</td>\n",
       "      <td>$95,400.00</td>\n",
       "      <td>$163,000.00</td>\n",
       "    </tr>\n",
       "  </tbody>\n",
       "</table>\n",
       "</div>"
      ],
      "text/plain": [
       "     REGION                                        SCHOOL NAME STARTING AVG  \\\n",
       "0  Southern                                    Rice University  $64,000.00    \n",
       "1  Southern                                    Duke University  $58,900.00    \n",
       "2  Southern                    Georgia Institute of Technology  $58,300.00    \n",
       "3  Southern                              Georgetown University  $55,000.00    \n",
       "4  Southern  Virginia Polytechnic Institute and State Unive...  $53,500.00    \n",
       "\n",
       "  MID CAREER AVG    TOP 10% AVG  \n",
       "0    $110,000.00   $216,000.00   \n",
       "1    $106,000.00   $218,000.00   \n",
       "2    $106,000.00   $183,000.00   \n",
       "3    $110,000.00   $248,000.00   \n",
       "4     $95,400.00   $163,000.00   "
      ]
     },
     "execution_count": 62,
     "metadata": {},
     "output_type": "execute_result"
    }
   ],
   "source": [
    "df.columns = ['REGION','SCHOOL NAME','STARTING AVG','MID CAREER AVG ','TOP 10% AVG']\n",
    "df.head()"
   ]
  },
  {
   "cell_type": "code",
   "execution_count": 63,
   "metadata": {},
   "outputs": [
    {
     "name": "stdout",
     "output_type": "stream",
     "text": [
      "/usr/local/bin/chromedriver\r\n"
     ]
    }
   ],
   "source": [
    "# https://splinter.readthedocs.io/en/latest/drivers/chrome.html\n",
    "!which chromedriver"
   ]
  },
  {
   "cell_type": "code",
   "execution_count": 64,
   "metadata": {},
   "outputs": [],
   "source": [
    "executable_path = {'executable_path': '/usr/local/bin/chromedriver'}\n",
    "browser = Browser('chrome', **executable_path, headless=False)"
   ]
  },
  {
   "cell_type": "code",
   "execution_count": 65,
   "metadata": {},
   "outputs": [],
   "source": [
    "base_url = 'https://www.payscale.com/cost-of-living-calculator/'"
   ]
  },
  {
   "cell_type": "code",
   "execution_count": 66,
   "metadata": {
    "scrolled": true
   },
   "outputs": [
    {
     "name": "stdout",
     "output_type": "stream",
     "text": [
      "https://www.payscale.com/cost-of-living-calculator/Georgia-Atlanta\n",
      "https://www.payscale.com/cost-of-living-calculator/Texas-Austin\n",
      "https://www.payscale.com/cost-of-living-calculator/North-Carolina-Charlotte\n",
      "https://www.payscale.com/cost-of-living-calculator/Texas-Dallas\n",
      "https://www.payscale.com/cost-of-living-calculator/Texas-Houston\n",
      "https://www.payscale.com/cost-of-living-calculator/Florida-Miami\n",
      "https://www.payscale.com/cost-of-living-calculator/Tennessee-Nashville\n",
      "https://www.payscale.com/cost-of-living-calculator/Florida-Orlando\n",
      "https://www.payscale.com/cost-of-living-calculator/North-Carolina-Raleigh\n",
      "https://www.payscale.com/cost-of-living-calculator/Florida-Tampa\n",
      "https://www.payscale.com/cost-of-living-calculator/District-of-Columbia-Washington\n"
     ]
    }
   ],
   "source": [
    "#Create list of links to scrape \n",
    "city_list= ['Georgia-Atlanta', 'Texas-Austin','North-Carolina-Charlotte', 'Texas-Dallas',\\\n",
    "            'Texas-Houston', 'Florida-Miami', 'Tennessee-Nashville', 'Florida-Orlando', 'North-Carolina-Raleigh', 'Florida-Tampa', 'District-of-Columbia-Washington']\n",
    "count = 0\n",
    "pages = []\n",
    "for page in city_list:\n",
    "    page_url = f\"{base_url}{city_list[count]}\"\n",
    "    count = count + 1\n",
    "    pages.append(page_url)\n",
    "    print(page_url)\n",
    "    \n",
    "    "
   ]
  },
  {
   "cell_type": "code",
   "execution_count": 67,
   "metadata": {},
   "outputs": [],
   "source": [
    "headers = ['Median Home Price','Median Rent','Energy Bill','Phone Bill','Gas','Loaf of Bread', \\\n",
    "            'Gallon of Milk','Carton of Eggs','Bunch of Bananas','Hamburger',\"Doctor's Visit\",\\\n",
    "            'Dentist Visit','Optometrist Visit','Rx Drug','Veterinary Visit']"
   ]
  },
  {
   "cell_type": "code",
   "execution_count": 68,
   "metadata": {},
   "outputs": [
    {
     "ename": "IndexError",
     "evalue": "list index out of range",
     "output_type": "error",
     "traceback": [
      "\u001b[0;31m---------------------------------------------------------------------------\u001b[0m",
      "\u001b[0;31mIndexError\u001b[0m                                Traceback (most recent call last)",
      "\u001b[0;32m<ipython-input-68-afdbc04e113a>\u001b[0m in \u001b[0;36m<module>\u001b[0;34m\u001b[0m\n\u001b[1;32m     11\u001b[0m             \u001b[0mvalues\u001b[0m\u001b[0;34m.\u001b[0m\u001b[0mappend\u001b[0m\u001b[0;34m(\u001b[0m\u001b[0mdeepcopy\u001b[0m\u001b[0;34m(\u001b[0m\u001b[0mvalue\u001b[0m\u001b[0;34m)\u001b[0m\u001b[0;34m)\u001b[0m\u001b[0;34m\u001b[0m\u001b[0;34m\u001b[0m\u001b[0m\n\u001b[1;32m     12\u001b[0m \u001b[0;34m\u001b[0m\u001b[0m\n\u001b[0;32m---> 13\u001b[0;31m     \u001b[0mstyle_df\u001b[0m \u001b[0;34m=\u001b[0m \u001b[0mpd\u001b[0m\u001b[0;34m.\u001b[0m\u001b[0mDataFrame\u001b[0m\u001b[0;34m(\u001b[0m\u001b[0;34m[\u001b[0m\u001b[0;34m{\u001b[0m\u001b[0mheaders\u001b[0m\u001b[0;34m[\u001b[0m\u001b[0mx\u001b[0m\u001b[0;34m]\u001b[0m\u001b[0;34m:\u001b[0m\u001b[0mvalues\u001b[0m\u001b[0;34m[\u001b[0m\u001b[0mx\u001b[0m\u001b[0;34m]\u001b[0m \u001b[0;32mfor\u001b[0m \u001b[0mx\u001b[0m \u001b[0;32min\u001b[0m \u001b[0mrange\u001b[0m\u001b[0;34m(\u001b[0m\u001b[0mlen\u001b[0m\u001b[0;34m(\u001b[0m\u001b[0mheaders\u001b[0m\u001b[0;34m)\u001b[0m\u001b[0;34m)\u001b[0m\u001b[0;34m}\u001b[0m\u001b[0;34m]\u001b[0m\u001b[0;34m)\u001b[0m\u001b[0;34m\u001b[0m\u001b[0;34m\u001b[0m\u001b[0m\n\u001b[0m\u001b[1;32m     14\u001b[0m     \u001b[0mlifestyle_df\u001b[0m \u001b[0;34m=\u001b[0m \u001b[0mlifestyle_df\u001b[0m\u001b[0;34m.\u001b[0m\u001b[0mappend\u001b[0m\u001b[0;34m(\u001b[0m\u001b[0mdeepcopy\u001b[0m\u001b[0;34m(\u001b[0m\u001b[0mstyle_df\u001b[0m\u001b[0;34m)\u001b[0m\u001b[0;34m)\u001b[0m\u001b[0;34m\u001b[0m\u001b[0;34m\u001b[0m\u001b[0m\n\u001b[1;32m     15\u001b[0m \u001b[0;34m\u001b[0m\u001b[0m\n",
      "\u001b[0;32m<ipython-input-68-afdbc04e113a>\u001b[0m in \u001b[0;36m<dictcomp>\u001b[0;34m(.0)\u001b[0m\n\u001b[1;32m     11\u001b[0m             \u001b[0mvalues\u001b[0m\u001b[0;34m.\u001b[0m\u001b[0mappend\u001b[0m\u001b[0;34m(\u001b[0m\u001b[0mdeepcopy\u001b[0m\u001b[0;34m(\u001b[0m\u001b[0mvalue\u001b[0m\u001b[0;34m)\u001b[0m\u001b[0;34m)\u001b[0m\u001b[0;34m\u001b[0m\u001b[0;34m\u001b[0m\u001b[0m\n\u001b[1;32m     12\u001b[0m \u001b[0;34m\u001b[0m\u001b[0m\n\u001b[0;32m---> 13\u001b[0;31m     \u001b[0mstyle_df\u001b[0m \u001b[0;34m=\u001b[0m \u001b[0mpd\u001b[0m\u001b[0;34m.\u001b[0m\u001b[0mDataFrame\u001b[0m\u001b[0;34m(\u001b[0m\u001b[0;34m[\u001b[0m\u001b[0;34m{\u001b[0m\u001b[0mheaders\u001b[0m\u001b[0;34m[\u001b[0m\u001b[0mx\u001b[0m\u001b[0;34m]\u001b[0m\u001b[0;34m:\u001b[0m\u001b[0mvalues\u001b[0m\u001b[0;34m[\u001b[0m\u001b[0mx\u001b[0m\u001b[0;34m]\u001b[0m \u001b[0;32mfor\u001b[0m \u001b[0mx\u001b[0m \u001b[0;32min\u001b[0m \u001b[0mrange\u001b[0m\u001b[0;34m(\u001b[0m\u001b[0mlen\u001b[0m\u001b[0;34m(\u001b[0m\u001b[0mheaders\u001b[0m\u001b[0;34m)\u001b[0m\u001b[0;34m)\u001b[0m\u001b[0;34m}\u001b[0m\u001b[0;34m]\u001b[0m\u001b[0;34m)\u001b[0m\u001b[0;34m\u001b[0m\u001b[0;34m\u001b[0m\u001b[0m\n\u001b[0m\u001b[1;32m     14\u001b[0m     \u001b[0mlifestyle_df\u001b[0m \u001b[0;34m=\u001b[0m \u001b[0mlifestyle_df\u001b[0m\u001b[0;34m.\u001b[0m\u001b[0mappend\u001b[0m\u001b[0;34m(\u001b[0m\u001b[0mdeepcopy\u001b[0m\u001b[0;34m(\u001b[0m\u001b[0mstyle_df\u001b[0m\u001b[0;34m)\u001b[0m\u001b[0;34m)\u001b[0m\u001b[0;34m\u001b[0m\u001b[0;34m\u001b[0m\u001b[0m\n\u001b[1;32m     15\u001b[0m \u001b[0;34m\u001b[0m\u001b[0m\n",
      "\u001b[0;31mIndexError\u001b[0m: list index out of range"
     ]
    }
   ],
   "source": [
    "count = 0\n",
    "lifestyle_df = pd.DataFrame()\n",
    "for page in pages:\n",
    "    browser.visit(page)\n",
    "    south_region = browser.html\n",
    "    southern_soup = bs(south_region, 'html.parser')\n",
    "    values = []\n",
    "    for info in southern_soup.find_all('div', class_='itemized__item-container'):   \n",
    "        for v in info.find_all('div', class_='itemized__item-value'):\n",
    "            value = v.text\n",
    "            values.append(deepcopy(value))\n",
    "        \n",
    "    style_df = pd.DataFrame([{headers[x]:values[x] for x in range(len(headers))}])\n",
    "    lifestyle_df = lifestyle_df.append(deepcopy(style_df))  \n",
    "    "
   ]
  },
  {
   "cell_type": "code",
   "execution_count": null,
   "metadata": {},
   "outputs": [],
   "source": [
    "df = pd.DataFrame(lifestyle_df)\n",
    "df['STATES']= city_list\n"
   ]
  },
  {
   "cell_type": "code",
   "execution_count": null,
   "metadata": {},
   "outputs": [],
   "source": [
    "Southern_data = df.set_index('STATES')\n",
    "Southern_data"
   ]
  },
  {
   "cell_type": "code",
   "execution_count": null,
   "metadata": {},
   "outputs": [],
   "source": []
  },
  {
   "cell_type": "code",
   "execution_count": null,
   "metadata": {},
   "outputs": [],
   "source": [
    "for x in Southern_data:\n",
    "    Southern_data[x] = Southern_data[x].str.replace(\"$\",\"\")\n",
    "    Southern_data[x] = Southern_data[x].str.replace(\"month\",\"\")\n",
    "    Southern_data[x] = Southern_data[x].str.replace(\"/\",\"\")\n",
    "    Southern_data[x] = Southern_data[x].str.replace(\"gallon\",\"\")\n",
    "    Southern_data[x] = Southern_data[x].str.replace(\",\",\"\")\n",
    "    Southern_data[x] = pd.to_numeric(Southern_data[x])\n",
    "\n",
    "Southern_data.head()"
   ]
  },
  {
   "cell_type": "code",
   "execution_count": null,
   "metadata": {},
   "outputs": [],
   "source": [
    "#Renamed columns\n",
    "Southern_data.columns = ['MORTGAGE','RENT','ELECTRICITY','PHONE','GAS','BREAD','MILK','EGGS','BANANAS','POLTRY','PHYSICIAN', 'DENTIST','OPTOMISTRIST', 'RX','VET']\n",
    "Southern_data['HLTH & WELL']=Southern_data['PHYSICIAN'] + Southern_data['DENTIST'] + Southern_data['OPTOMISTRIST'] + Southern_data['RX']\n",
    "Southern_data['EAT-IN']=Southern_data['BREAD'] + Southern_data['MILK'] + Southern_data['BANANAS'] + Southern_data['POLTRY']\n",
    "Southern_data = Southern_data.drop(['BREAD','MILK','EGGS','BANANAS','POLTRY','PHYSICIAN', 'DENTIST', 'OPTOMISTRIST','RX'], axis=1)\n",
    "Southern_data\n"
   ]
  },
  {
   "cell_type": "code",
   "execution_count": null,
   "metadata": {},
   "outputs": [],
   "source": [
    "#Added Region column with \"Southern\" values in preparation to join with other regions.\n",
    "region = 'Southern'\n",
    "Southern_data['REGION'] = [region for _ in range(len(Southern_data))]\n",
    "Southern_data\n"
   ]
  },
  {
   "cell_type": "code",
   "execution_count": null,
   "metadata": {},
   "outputs": [],
   "source": [
    "#Reorderd columns\n",
    "Southern_data = Southern_data[['MORTGAGE', 'RENT', 'ELECTRICITY','GAS', 'EAT-IN','PHONE','HLTH & WELL', 'VET', 'REGION']]\n",
    "Southern_data"
   ]
  },
  {
   "cell_type": "code",
   "execution_count": null,
   "metadata": {},
   "outputs": [],
   "source": [
    "Southern_data.to_csv(\"southern.csv\")"
   ]
  },
  {
   "cell_type": "code",
   "execution_count": null,
   "metadata": {},
   "outputs": [],
   "source": [
    "Southern_data.mean(axis = 0)"
   ]
  },
  {
   "cell_type": "code",
   "execution_count": null,
   "metadata": {},
   "outputs": [],
   "source": [
    "#Transpose the DataFrame\n",
    "southern_avg = pd.DataFrame(Southern_data.mean())\n",
    "southern_avg_t = southern_avg.T\n",
    "southern_avg_t "
   ]
  },
  {
   "cell_type": "code",
   "execution_count": null,
   "metadata": {},
   "outputs": [],
   "source": [
    "\n",
    "mid_west_df = pd.read_csv(\"mid_west.csv\")\n",
    "southern_df_csv = pd.read_csv(\"southern.csv\")"
   ]
  },
  {
   "cell_type": "code",
   "execution_count": null,
   "metadata": {},
   "outputs": [],
   "source": []
  },
  {
   "cell_type": "code",
   "execution_count": null,
   "metadata": {},
   "outputs": [],
   "source": [
    "mid_west_df.head()"
   ]
  },
  {
   "cell_type": "code",
   "execution_count": null,
   "metadata": {},
   "outputs": [],
   "source": [
    "southern_df_csv.head()"
   ]
  },
  {
   "cell_type": "code",
   "execution_count": null,
   "metadata": {},
   "outputs": [],
   "source": [
    "Mid_South = mid_west_df.append(southern_df_csv,ignore_index = True)\n",
    "Mid_South"
   ]
  },
  {
   "cell_type": "code",
   "execution_count": null,
   "metadata": {},
   "outputs": [],
   "source": [
    "cali_df = pd.read_csv(\"cali.csv\")\n",
    "western_df= pd.read_csv(\"western.csv\")"
   ]
  },
  {
   "cell_type": "code",
   "execution_count": null,
   "metadata": {},
   "outputs": [],
   "source": [
    "western_df"
   ]
  },
  {
   "cell_type": "code",
   "execution_count": null,
   "metadata": {},
   "outputs": [],
   "source": [
    "cali_df"
   ]
  },
  {
   "cell_type": "code",
   "execution_count": null,
   "metadata": {},
   "outputs": [],
   "source": [
    "Western_Cali = western_df.append(cali_df,ignore_index = True)\n",
    "Western_Cali"
   ]
  },
  {
   "cell_type": "code",
   "execution_count": null,
   "metadata": {},
   "outputs": [],
   "source": [
    "Sth_West_Mid_Cali = Mid_South.append(Western_Cali,ignore_index = True)\n"
   ]
  },
  {
   "cell_type": "code",
   "execution_count": null,
   "metadata": {},
   "outputs": [],
   "source": []
  }
 ],
 "metadata": {
  "kernelspec": {
   "display_name": "Python 3",
   "language": "python",
   "name": "python3"
  },
  "language_info": {
   "codemirror_mode": {
    "name": "ipython",
    "version": 3
   },
   "file_extension": ".py",
   "mimetype": "text/x-python",
   "name": "python",
   "nbconvert_exporter": "python",
   "pygments_lexer": "ipython3",
   "version": "3.7.4"
  }
 },
 "nbformat": 4,
 "nbformat_minor": 2
}
